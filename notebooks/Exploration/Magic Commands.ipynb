{
 "cells": [
  {
   "cell_type": "code",
   "execution_count": 15,
   "metadata": {
    "scrolled": true
   },
   "outputs": [
    {
     "data": {
      "text/html": [
       "<div><h3>.NET kernel</h3><div><div style=\"text-indent:1.5em\"><pre><span style=\"text-indent:1.5em; color:#512bd4\">#!csharp</span><span style=\"text-indent:1.5em; color:darkgray\">, </span><span style=\"text-indent:1.5em; color:#512bd4\">#!c#</span><span style=\"text-indent:1.5em; color:darkgray\">, </span><span style=\"text-indent:1.5em; color:#512bd4\">#!C#</span></pre><div style=\"text-indent:3em\">Run the code that follows using the csharp kernel.</div></div><div style=\"text-indent:1.5em\"><pre><span style=\"text-indent:1.5em; color:#512bd4\">#!fsharp</span><span style=\"text-indent:1.5em; color:darkgray\">, </span><span style=\"text-indent:1.5em; color:#512bd4\">#!f#</span><span style=\"text-indent:1.5em; color:darkgray\">, </span><span style=\"text-indent:1.5em; color:#512bd4\">#!F#</span></pre><div style=\"text-indent:3em\">Run the code that follows using the fsharp kernel.</div></div><div style=\"text-indent:1.5em\"><pre><span style=\"text-indent:1.5em; color:#512bd4\">#!pwsh</span><span style=\"text-indent:1.5em; color:darkgray\">, </span><span style=\"text-indent:1.5em; color:#512bd4\">#!powershell</span></pre><div style=\"text-indent:3em\">Run the code that follows using the pwsh kernel.</div></div><div style=\"text-indent:1.5em\"><pre><span style=\"text-indent:1.5em; color:#512bd4\">#!javascript</span><span style=\"text-indent:1.5em; color:darkgray\">, </span><span style=\"text-indent:1.5em; color:#512bd4\">#!js</span></pre><div style=\"text-indent:3em\">Run the code that follows using the javascript kernel.</div></div><div style=\"text-indent:1.5em\"><pre><span style=\"text-indent:1.5em; color:#512bd4\">#!html</span></pre><div style=\"text-indent:3em\">Run the code that follows using the html kernel.</div></div><div style=\"text-indent:1.5em\"><pre><span style=\"text-indent:1.5em; color:#512bd4\">#!value</span></pre><div style=\"text-indent:3em\">Stores a value that can then be shared with other subkernels.</div></div><div style=\"text-indent:1.5em\"><pre><span style=\"text-indent:1.5em; color:#512bd4\">#!lsmagic</span></pre><div style=\"text-indent:3em\">List the available magic commands / directives</div></div><div style=\"text-indent:1.5em\"><pre><span style=\"text-indent:1.5em; color:#512bd4\">#!markdown</span></pre><div style=\"text-indent:3em\">Convert the code that follows from Markdown into HTML</div></div><div style=\"text-indent:1.5em\"><pre><span style=\"text-indent:1.5em; color:#512bd4\">#!time</span></pre><div style=\"text-indent:3em\">Time the execution of the following code in the submission.</div></div><div style=\"text-indent:1.5em\"><pre><span style=\"text-indent:1.5em; color:#512bd4\">#!log</span></pre><div style=\"text-indent:3em\">Enables session logging.</div></div><div style=\"text-indent:1.5em\"><pre><span style=\"text-indent:1.5em; color:#512bd4\">#!about</span></pre><div style=\"text-indent:3em\">Show version and build information</div></div><div style=\"text-indent:1.5em\"><pre><span style=\"text-indent:1.5em; color:#512bd4\">#!connect</span></pre><div style=\"text-indent:3em\">Connects additional subkernels</div><div style=\"text-indent:3em\"><pre><span style=\"text-indent:4.5em; color:#512bd4\">named-pipe</span></pre><div style=\"text-indent:6em\">Connects to a kernel using named pipes</div></div><div style=\"text-indent:3em\"><pre><span style=\"text-indent:4.5em; color:#512bd4\">signalr</span></pre><div style=\"text-indent:6em\">Connects to a kernel using SignalR</div></div></div></div></div>"
      ]
     },
     "metadata": {},
     "output_type": "display_data"
    },
    {
     "data": {
      "text/html": [
       "<div><h3>csharp kernel</h3><div><div style=\"text-indent:1.5em\"><pre><span style=\"text-indent:1.5em; color:#512bd4\">#i</span></pre><div style=\"text-indent:3em\"><div class=\"dni-plaintext\">&lt;null&gt;</div></div></div><div style=\"text-indent:1.5em\"><pre><span style=\"text-indent:1.5em; color:#512bd4\">#r</span></pre><div style=\"text-indent:3em\"><div class=\"dni-plaintext\">&lt;null&gt;</div></div></div><div style=\"text-indent:1.5em\"><pre><span style=\"text-indent:1.5em; color:#512bd4\">#!whos</span><span style=\"text-indent:1.5em; color:darkgray\">, </span><span style=\"text-indent:1.5em; color:#512bd4\">#!who</span></pre><div style=\"text-indent:3em\">Display the names of the current top-level variables and their values.</div></div><div style=\"text-indent:1.5em\"><pre><span style=\"text-indent:1.5em; color:#512bd4\">#!share</span></pre><div style=\"text-indent:3em\">Share a .NET variable between subkernels</div></div><div style=\"text-indent:1.5em\"><pre><span style=\"text-indent:1.5em; color:#512bd4\">#!lsmagic</span></pre><div style=\"text-indent:3em\">List the available magic commands / directives</div></div></div></div>"
      ]
     },
     "metadata": {},
     "output_type": "display_data"
    },
    {
     "data": {
      "text/html": [
       "<div><h3>fsharp kernel</h3><div><div style=\"text-indent:1.5em\"><pre><span style=\"text-indent:1.5em; color:#512bd4\">#i</span></pre><div style=\"text-indent:3em\"><div class=\"dni-plaintext\">&lt;null&gt;</div></div></div><div style=\"text-indent:1.5em\"><pre><span style=\"text-indent:1.5em; color:#512bd4\">#r</span></pre><div style=\"text-indent:3em\"><div class=\"dni-plaintext\">&lt;null&gt;</div></div></div><div style=\"text-indent:1.5em\"><pre><span style=\"text-indent:1.5em; color:#512bd4\">#!whos</span><span style=\"text-indent:1.5em; color:darkgray\">, </span><span style=\"text-indent:1.5em; color:#512bd4\">#!who</span></pre><div style=\"text-indent:3em\">Display the names of the current top-level variables and their values.</div></div><div style=\"text-indent:1.5em\"><pre><span style=\"text-indent:1.5em; color:#512bd4\">#!share</span></pre><div style=\"text-indent:3em\">Share a .NET variable between subkernels</div></div><div style=\"text-indent:1.5em\"><pre><span style=\"text-indent:1.5em; color:#512bd4\">#!lsmagic</span></pre><div style=\"text-indent:3em\">List the available magic commands / directives</div></div></div></div>"
      ]
     },
     "metadata": {},
     "output_type": "display_data"
    },
    {
     "data": {
      "text/html": [
       "<div><h3>pwsh kernel</h3><div><div style=\"text-indent:1.5em\"><pre><span style=\"text-indent:1.5em; color:#512bd4\">#!share</span></pre><div style=\"text-indent:3em\">Share a .NET variable between subkernels</div></div><div style=\"text-indent:1.5em\"><pre><span style=\"text-indent:1.5em; color:#512bd4\">#!lsmagic</span></pre><div style=\"text-indent:3em\">List the available magic commands / directives</div></div></div></div>"
      ]
     },
     "metadata": {},
     "output_type": "display_data"
    },
    {
     "data": {
      "text/html": [
       "<div><h3>javascript kernel</h3><div><div style=\"text-indent:1.5em\"><pre><span style=\"text-indent:1.5em; color:#512bd4\">#!lsmagic</span></pre><div style=\"text-indent:3em\">List the available magic commands / directives</div></div></div></div>"
      ]
     },
     "metadata": {},
     "output_type": "display_data"
    },
    {
     "data": {
      "text/html": [
       "<div><h3>html kernel</h3><div><div style=\"text-indent:1.5em\"><pre><span style=\"text-indent:1.5em; color:#512bd4\">#!lsmagic</span></pre><div style=\"text-indent:3em\">List the available magic commands / directives</div></div></div></div>"
      ]
     },
     "metadata": {},
     "output_type": "display_data"
    },
    {
     "data": {
      "text/html": [
       "<div><h3>value kernel</h3><div><div style=\"text-indent:1.5em\"><pre><span style=\"text-indent:1.5em; color:#512bd4\">#!whos</span><span style=\"text-indent:1.5em; color:darkgray\">, </span><span style=\"text-indent:1.5em; color:#512bd4\">#!who</span></pre><div style=\"text-indent:3em\">Display the names of the current top-level variables and their values.</div></div><div style=\"text-indent:1.5em\"><pre><span style=\"text-indent:1.5em; color:#512bd4\">#!lsmagic</span></pre><div style=\"text-indent:3em\">List the available magic commands / directives</div></div></div></div>"
      ]
     },
     "metadata": {},
     "output_type": "display_data"
    }
   ],
   "source": [
    "#!lsmagic"
   ]
  },
  {
   "cell_type": "code",
   "execution_count": 16,
   "metadata": {
    "scrolled": true
   },
   "outputs": [
    {
     "name": "stdout",
     "output_type": "stream",
     "text": [
      "Magic Commands.ipynb\n"
     ]
    }
   ],
   "source": [
    "#!powershell\n",
    "\n",
    "ls"
   ]
  },
  {
   "cell_type": "code",
   "execution_count": 14,
   "metadata": {
    "scrolled": true
   },
   "outputs": [
    {
     "ename": "Unhandled exception",
     "evalue": "System.Reflection.TargetInvocationException: Exception has been thrown by the target of an invocation.\n ---> System.NullReferenceException: Object reference not set to an instance of an object.\n   at Microsoft.DotNet.Interactive.KernelExtensions.<>c__DisplayClass6_0.<who_and_whos>b__2(String name) in F:\\workspace\\_work\\1\\s\\src\\Microsoft.DotNet.Interactive\\KernelExtensions.cs:line 227\n   at System.Linq.Enumerable.SelectArrayIterator`2.MoveNext()\n   at System.Linq.Enumerable.WhereEnumerableIterator`1.MoveNext()\n   at Microsoft.DotNet.Interactive.CurrentVariables..ctor(IEnumerable`1 variables, Boolean detailed) in F:\\workspace\\_work\\1\\s\\src\\Microsoft.DotNet.Interactive\\CurrentVariables.cs:line 23\n   at Microsoft.DotNet.Interactive.KernelExtensions.<who_and_whos>g__Display|6_0(KernelInvocationContext context, Boolean detailed) in F:\\workspace\\_work\\1\\s\\src\\Microsoft.DotNet.Interactive\\KernelExtensions.cs:line 223\n   at Microsoft.DotNet.Interactive.KernelExtensions.<>c.<who_and_whos>b__6_1(ParseResult parseResult, KernelInvocationContext context) in F:\\workspace\\_work\\1\\s\\src\\Microsoft.DotNet.Interactive\\KernelExtensions.cs:line 207\n   --- End of inner exception stack trace ---\n   at System.RuntimeMethodHandle.InvokeMethod(Object target, Object[] arguments, Signature sig, Boolean constructor, Boolean wrapExceptions)\n   at System.Reflection.RuntimeMethodInfo.Invoke(Object obj, BindingFlags invokeAttr, Binder binder, Object[] parameters, CultureInfo culture)\n   at System.Delegate.DynamicInvokeImpl(Object[] args)\n   at System.Delegate.DynamicInvoke(Object[] args)\n   at System.CommandLine.Invocation.ModelBindingCommandHandler.InvokeAsync(InvocationContext context)\n   at System.CommandLine.Invocation.InvocationPipeline.<>c__DisplayClass4_0.<<BuildInvocationChain>b__0>d.MoveNext()\n--- End of stack trace from previous location ---\n   at System.CommandLine.Builder.CommandLineBuilderExtensions.<>c__DisplayClass19_0.<<UseMiddleware>b__0>d.MoveNext()\n--- End of stack trace from previous location ---\n   at System.CommandLine.Builder.CommandLineBuilderExtensions.<>c__DisplayClass16_0.<<UseHelp>b__0>d.MoveNext()\n--- End of stack trace from previous location ---\n   at System.CommandLine.Builder.CommandLineBuilderExtensions.<>c__DisplayClass23_0.<<UseTypoCorrections>b__0>d.MoveNext()\n--- End of stack trace from previous location ---\n   at System.CommandLine.Invocation.InvocationPipeline.InvokeAsync(IConsole console)\n   at System.CommandLine.Parsing.ParseResultExtensions.InvokeAsync(ParseResult parseResult, IConsole console)\n   at Microsoft.DotNet.Interactive.Commands.DirectiveCommand.InvokeAsync(KernelInvocationContext context) in F:\\workspace\\_work\\1\\s\\src\\Microsoft.DotNet.Interactive\\Commands\\DirectiveCommand.cs:line 34\n   at Microsoft.DotNet.Interactive.Kernel.<AddDirectiveMiddlewareAndCommonCommandHandlers>b__20_0(KernelCommand originalCommand, KernelInvocationContext context, KernelPipelineContinuation next) in F:\\workspace\\_work\\1\\s\\src\\Microsoft.DotNet.Interactive\\Kernel.cs:line 115\n   at Microsoft.DotNet.Interactive.KernelCommandPipeline.<>c__DisplayClass6_1.<<BuildPipeline>b__3>d.MoveNext() in F:\\workspace\\_work\\1\\s\\src\\Microsoft.DotNet.Interactive\\KernelCommandPipeline.cs:line 75\n--- End of stack trace from previous location ---\n   at Microsoft.DotNet.Interactive.Kernel.SetKernel(KernelCommand command, KernelInvocationContext context, KernelPipelineContinuation next) in F:\\workspace\\_work\\1\\s\\src\\Microsoft.DotNet.Interactive\\Kernel.cs:line 200\n   at Microsoft.DotNet.Interactive.KernelCommandPipeline.<>c__DisplayClass6_0.<<BuildPipeline>g__Combine|2>d.MoveNext() in F:\\workspace\\_work\\1\\s\\src\\Microsoft.DotNet.Interactive\\KernelCommandPipeline.cs:line 76\n--- End of stack trace from previous location ---\n   at Microsoft.DotNet.Interactive.KernelCommandPipeline.<>c__DisplayClass6_0.<<BuildPipeline>g__Combine|2>d.MoveNext() in F:\\workspace\\_work\\1\\s\\src\\Microsoft.DotNet.Interactive\\KernelCommandPipeline.cs:line 76\n--- End of stack trace from previous location ---\n   at Microsoft.DotNet.Interactive.KernelCommandPipeline.SendAsync(KernelCommand command, KernelInvocationContext context) in F:\\workspace\\_work\\1\\s\\src\\Microsoft.DotNet.Interactive\\KernelCommandPipeline.cs:line 48",
     "output_type": "error",
     "traceback": [
      "System.Reflection.TargetInvocationException: Exception has been thrown by the target of an invocation.\n ---> System.NullReferenceException: Object reference not set to an instance of an object.\n   at Microsoft.DotNet.Interactive.KernelExtensions.<>c__DisplayClass6_0.<who_and_whos>b__2(String name) in F:\\workspace\\_work\\1\\s\\src\\Microsoft.DotNet.Interactive\\KernelExtensions.cs:line 227\n   at System.Linq.Enumerable.SelectArrayIterator`2.MoveNext()\n   at System.Linq.Enumerable.WhereEnumerableIterator`1.MoveNext()\n   at Microsoft.DotNet.Interactive.CurrentVariables..ctor(IEnumerable`1 variables, Boolean detailed) in F:\\workspace\\_work\\1\\s\\src\\Microsoft.DotNet.Interactive\\CurrentVariables.cs:line 23\n   at Microsoft.DotNet.Interactive.KernelExtensions.<who_and_whos>g__Display|6_0(KernelInvocationContext context, Boolean detailed) in F:\\workspace\\_work\\1\\s\\src\\Microsoft.DotNet.Interactive\\KernelExtensions.cs:line 223\n   at Microsoft.DotNet.Interactive.KernelExtensions.<>c.<who_and_whos>b__6_1(ParseResult parseResult, KernelInvocationContext context) in F:\\workspace\\_work\\1\\s\\src\\Microsoft.DotNet.Interactive\\KernelExtensions.cs:line 207\n   --- End of inner exception stack trace ---\n   at System.RuntimeMethodHandle.InvokeMethod(Object target, Object[] arguments, Signature sig, Boolean constructor, Boolean wrapExceptions)\n   at System.Reflection.RuntimeMethodInfo.Invoke(Object obj, BindingFlags invokeAttr, Binder binder, Object[] parameters, CultureInfo culture)\n   at System.Delegate.DynamicInvokeImpl(Object[] args)\n   at System.Delegate.DynamicInvoke(Object[] args)\n   at System.CommandLine.Invocation.ModelBindingCommandHandler.InvokeAsync(InvocationContext context)\n   at System.CommandLine.Invocation.InvocationPipeline.<>c__DisplayClass4_0.<<BuildInvocationChain>b__0>d.MoveNext()\n--- End of stack trace from previous location ---\n   at System.CommandLine.Builder.CommandLineBuilderExtensions.<>c__DisplayClass19_0.<<UseMiddleware>b__0>d.MoveNext()\n--- End of stack trace from previous location ---\n   at System.CommandLine.Builder.CommandLineBuilderExtensions.<>c__DisplayClass16_0.<<UseHelp>b__0>d.MoveNext()\n--- End of stack trace from previous location ---\n   at System.CommandLine.Builder.CommandLineBuilderExtensions.<>c__DisplayClass23_0.<<UseTypoCorrections>b__0>d.MoveNext()\n--- End of stack trace from previous location ---\n   at System.CommandLine.Invocation.InvocationPipeline.InvokeAsync(IConsole console)\n   at System.CommandLine.Parsing.ParseResultExtensions.InvokeAsync(ParseResult parseResult, IConsole console)\n   at Microsoft.DotNet.Interactive.Commands.DirectiveCommand.InvokeAsync(KernelInvocationContext context) in F:\\workspace\\_work\\1\\s\\src\\Microsoft.DotNet.Interactive\\Commands\\DirectiveCommand.cs:line 34\n   at Microsoft.DotNet.Interactive.Kernel.<AddDirectiveMiddlewareAndCommonCommandHandlers>b__20_0(KernelCommand originalCommand, KernelInvocationContext context, KernelPipelineContinuation next) in F:\\workspace\\_work\\1\\s\\src\\Microsoft.DotNet.Interactive\\Kernel.cs:line 115\n   at Microsoft.DotNet.Interactive.KernelCommandPipeline.<>c__DisplayClass6_1.<<BuildPipeline>b__3>d.MoveNext() in F:\\workspace\\_work\\1\\s\\src\\Microsoft.DotNet.Interactive\\KernelCommandPipeline.cs:line 75\n--- End of stack trace from previous location ---\n   at Microsoft.DotNet.Interactive.Kernel.SetKernel(KernelCommand command, KernelInvocationContext context, KernelPipelineContinuation next) in F:\\workspace\\_work\\1\\s\\src\\Microsoft.DotNet.Interactive\\Kernel.cs:line 200\n   at Microsoft.DotNet.Interactive.KernelCommandPipeline.<>c__DisplayClass6_0.<<BuildPipeline>g__Combine|2>d.MoveNext() in F:\\workspace\\_work\\1\\s\\src\\Microsoft.DotNet.Interactive\\KernelCommandPipeline.cs:line 76\n--- End of stack trace from previous location ---\n   at Microsoft.DotNet.Interactive.KernelCommandPipeline.<>c__DisplayClass6_0.<<BuildPipeline>g__Combine|2>d.MoveNext() in F:\\workspace\\_work\\1\\s\\src\\Microsoft.DotNet.Interactive\\KernelCommandPipeline.cs:line 76\n--- End of stack trace from previous location ---\n   at Microsoft.DotNet.Interactive.KernelCommandPipeline.SendAsync(KernelCommand command, KernelInvocationContext context) in F:\\workspace\\_work\\1\\s\\src\\Microsoft.DotNet.Interactive\\KernelCommandPipeline.cs:line 48",
      "   at System.RuntimeMethodHandle.InvokeMethod(Object target, Object[] arguments, Signature sig, Boolean constructor, Boolean wrapExceptions)",
      "   at System.Reflection.RuntimeMethodInfo.Invoke(Object obj, BindingFlags invokeAttr, Binder binder, Object[] parameters, CultureInfo culture)",
      "   at System.Delegate.DynamicInvokeImpl(Object[] args)",
      "   at System.Delegate.DynamicInvoke(Object[] args)",
      "   at System.CommandLine.Invocation.ModelBindingCommandHandler.InvokeAsync(InvocationContext context)",
      "   at System.CommandLine.Invocation.InvocationPipeline.<>c__DisplayClass4_0.<<BuildInvocationChain>b__0>d.MoveNext()",
      "--- End of stack trace from previous location ---",
      "   at System.CommandLine.Builder.CommandLineBuilderExtensions.<>c__DisplayClass19_0.<<UseMiddleware>b__0>d.MoveNext()",
      "--- End of stack trace from previous location ---",
      "   at System.CommandLine.Builder.CommandLineBuilderExtensions.<>c__DisplayClass16_0.<<UseHelp>b__0>d.MoveNext()",
      "--- End of stack trace from previous location ---",
      "   at System.CommandLine.Builder.CommandLineBuilderExtensions.<>c__DisplayClass23_0.<<UseTypoCorrections>b__0>d.MoveNext()",
      "--- End of stack trace from previous location ---",
      "   at System.CommandLine.Invocation.InvocationPipeline.InvokeAsync(IConsole console)",
      "   at System.CommandLine.Parsing.ParseResultExtensions.InvokeAsync(ParseResult parseResult, IConsole console)",
      "   at Microsoft.DotNet.Interactive.Commands.DirectiveCommand.InvokeAsync(KernelInvocationContext context) in F:\\workspace\\_work\\1\\s\\src\\Microsoft.DotNet.Interactive\\Commands\\DirectiveCommand.cs:line 34",
      "   at Microsoft.DotNet.Interactive.Kernel.<AddDirectiveMiddlewareAndCommonCommandHandlers>b__20_0(KernelCommand originalCommand, KernelInvocationContext context, KernelPipelineContinuation next) in F:\\workspace\\_work\\1\\s\\src\\Microsoft.DotNet.Interactive\\Kernel.cs:line 115",
      "   at Microsoft.DotNet.Interactive.KernelCommandPipeline.<>c__DisplayClass6_1.<<BuildPipeline>b__3>d.MoveNext() in F:\\workspace\\_work\\1\\s\\src\\Microsoft.DotNet.Interactive\\KernelCommandPipeline.cs:line 75",
      "--- End of stack trace from previous location ---",
      "   at Microsoft.DotNet.Interactive.Kernel.SetKernel(KernelCommand command, KernelInvocationContext context, KernelPipelineContinuation next) in F:\\workspace\\_work\\1\\s\\src\\Microsoft.DotNet.Interactive\\Kernel.cs:line 200",
      "   at Microsoft.DotNet.Interactive.KernelCommandPipeline.<>c__DisplayClass6_0.<<BuildPipeline>g__Combine|2>d.MoveNext() in F:\\workspace\\_work\\1\\s\\src\\Microsoft.DotNet.Interactive\\KernelCommandPipeline.cs:line 76",
      "--- End of stack trace from previous location ---",
      "   at Microsoft.DotNet.Interactive.KernelCommandPipeline.<>c__DisplayClass6_0.<<BuildPipeline>g__Combine|2>d.MoveNext() in F:\\workspace\\_work\\1\\s\\src\\Microsoft.DotNet.Interactive\\KernelCommandPipeline.cs:line 76",
      "--- End of stack trace from previous location ---",
      "   at Microsoft.DotNet.Interactive.KernelCommandPipeline.SendAsync(KernelCommand command, KernelInvocationContext context) in F:\\workspace\\_work\\1\\s\\src\\Microsoft.DotNet.Interactive\\KernelCommandPipeline.cs:line 48"
     ]
    }
   ],
   "source": [
    "#!whos"
   ]
  }
 ],
 "metadata": {
  "kernelspec": {
   "display_name": ".NET (C#)",
   "language": "C#",
   "name": ".net-csharp"
  },
  "language_info": {
   "file_extension": ".cs",
   "mimetype": "text/x-csharp",
   "name": "C#",
   "pygments_lexer": "csharp",
   "version": "8.0"
  }
 },
 "nbformat": 4,
 "nbformat_minor": 4
}
