{
 "cells": [
  {
   "cell_type": "markdown",
   "metadata": {},
   "source": [
    "# String (Chaîne des charactères)\n",
    "\n",
    "<https://docs.microsoft.com/en-us/dotnet/api/system.string?view=netframework-4.7.2>\n",
    "\n",
    "## Membres\n",
    "\n",
    "### Propriétés\n",
    "\n",
    "- `Empty` représente une string vide (équivaut à `\"\"`)"
   ]
  },
  {
   "cell_type": "code",
   "execution_count": 43,
   "metadata": {},
   "outputs": [
    {
     "name": "stdout",
     "output_type": "stream",
     "text": [
      "True\n"
     ]
    }
   ],
   "source": [
    "string empty1 = \"\";\n",
    "string empty2 = string.Empty;\n",
    "\n",
    "bool isTrue = empty1 == empty2;\n",
    "Console.WriteLine(isTrue);"
   ]
  },
  {
   "cell_type": "markdown",
   "metadata": {},
   "source": [
    "- `Length` retourne la longueur de la string"
   ]
  },
  {
   "cell_type": "code",
   "execution_count": 44,
   "metadata": {
    "scrolled": true
   },
   "outputs": [
    {
     "name": "stdout",
     "output_type": "stream",
     "text": [
      "1) The length of 'abcdefg' is 7\n"
     ]
    }
   ],
   "source": [
    "string str = \"abcdefg\";\n",
    "Console.WriteLine(\"1) The length of '{0}' is {1}\", str, str.Length);\n",
    "// Displays \"The length of 'abcdefg' is 7\""
   ]
  },
  {
   "cell_type": "markdown",
   "metadata": {},
   "source": [
    "### Méthodes\n",
    "\n",
    "- `IsNullOrEmpty()` indique si la variable est `null` (aucune référence) ou représente une string vide"
   ]
  },
  {
   "cell_type": "code",
   "execution_count": null,
   "metadata": {},
   "outputs": [],
   "source": [
    "string empty = \"\";\n",
    "if (string.IsNullOrEmpty(empty))\n",
    "    Console.WriteLine(\"La string est vide!\");"
   ]
  },
  {
   "cell_type": "markdown",
   "metadata": {},
   "source": [
    "- `IsNullOrWhiteSpace()` indique si la variable est `null` (aucune référence), vide ou comprend seulement des caractères à espace blanche"
   ]
  },
  {
   "cell_type": "code",
   "execution_count": 9,
   "metadata": {},
   "outputs": [
    {
     "name": "stdout",
     "output_type": "stream",
     "text": [
      "La string est vide!\n"
     ]
    }
   ],
   "source": [
    "string empty = \"        \\t\";\n",
    "if (string.IsNullOrWhiteSpace(empty))\n",
    "    Console.WriteLine(\"La string est vide!\");"
   ]
  },
  {
   "cell_type": "markdown",
   "metadata": {},
   "source": [
    "- `Join()` crée une nouvelle string en joignant les valeurs d’un tableau de string (tout en séparant les valeurs par un séparateur au choix)"
   ]
  },
  {
   "cell_type": "code",
   "execution_count": null,
   "metadata": {},
   "outputs": [],
   "source": [
    "string[] val = {\"apple\", \"orange\", \"grape\", \"pear\"};\n",
    "string result = string.Join(\", \", val);\n",
    "Console.WriteLine(result); // apple, orange, grape, pear"
   ]
  },
  {
   "cell_type": "markdown",
   "metadata": {},
   "source": [
    "- `Concat()` crée une nouvelle string en concaténant les valeurs d’un tableau de string\n",
    "\n",
    "- `Format()` crée une nouvelle string en substituant des espaces réservées par des valeurs fournies suivant un format défini"
   ]
  },
  {
   "cell_type": "code",
   "execution_count": 11,
   "metadata": {
    "scrolled": true
   },
   "outputs": [
    {
     "name": "stdout",
     "output_type": "stream",
     "text": [
      "The temperature is 20.4°C.\n"
     ]
    }
   ],
   "source": [
    "decimal temp = 20.4m;\n",
    "string s = String.Format(\"The temperature is {0}°C.\", temp);\n",
    "Console.WriteLine(s);\n",
    "// Displays 'The temperature is 20.4°C.'"
   ]
  },
  {
   "cell_type": "markdown",
   "metadata": {},
   "source": [
    "- `Contains()` indique si la string contient une autre string spécifique"
   ]
  },
  {
   "cell_type": "code",
   "execution_count": 16,
   "metadata": {},
   "outputs": [
    {
     "name": "stdout",
     "output_type": "stream",
     "text": [
      "True\n"
     ]
    }
   ],
   "source": [
    "string s1 = \"The quick brown fox jumps over the lazy dog\";\n",
    "string s2 = \"fox\";\n",
    "bool b = s1.Contains(s2); // true\n",
    "Console.WriteLine(b);"
   ]
  },
  {
   "cell_type": "markdown",
   "metadata": {},
   "source": [
    "- `Equals()` indique si la string a la même valeur qu’une autre string\n",
    "\n",
    "- `Replace()` retourne une string modifiée en substituant une valeur spécifique avec une autre"
   ]
  },
  {
   "cell_type": "code",
   "execution_count": 47,
   "metadata": {},
   "outputs": [
    {
     "name": "stdout",
     "output_type": "stream",
     "text": [
      "The initial string: 'aaa'\n",
      "The final string: 'ddd'\n"
     ]
    }
   ],
   "source": [
    "string s = \"aaa\";\n",
    "Console.WriteLine(\"The initial string: '{0}'\", s);\n",
    "s = s.Replace(\"a\", \"b\").Replace(\"b\", \"c\").Replace(\"c\", \"d\");\n",
    "Console.WriteLine(\"The final string: '{0}'\", s);\n",
    "// The example displays the following output:\n",
    "//       The initial string: 'aaa'\n",
    "//       The final string: 'ddd'"
   ]
  },
  {
   "cell_type": "markdown",
   "metadata": {},
   "source": [
    "- `Split()` retourne un tableau de string en séparant la string courante par un séparateur au choix"
   ]
  },
  {
   "cell_type": "code",
   "execution_count": 18,
   "metadata": {
    "scrolled": true
   },
   "outputs": [
    {
     "name": "stdout",
     "output_type": "stream",
     "text": [
      "This\n",
      "is\n",
      "a\n",
      "string.\n"
     ]
    }
   ],
   "source": [
    "string phrase = \"This10is10a10string.\";\n",
    "string[] words = phrase.Split(\"10\", StringSplitOptions.RemoveEmptyEntries);\n",
    "foreach(var word in words)\n",
    "    Console.WriteLine(word);\n",
    "// This\n",
    "// is\n",
    "// a\n",
    "// string."
   ]
  },
  {
   "cell_type": "markdown",
   "metadata": {},
   "source": [
    "- `Trim()` retourne une string sans un caractère spécifique (caractères à espace blanche est par défaut) retrouvé au début et/ou à la fin de la string courante"
   ]
  },
  {
   "cell_type": "code",
   "execution_count": 23,
   "metadata": {},
   "outputs": [
    {
     "name": "stdout",
     "output_type": "stream",
     "text": [
      "Enter your first name: \n",
      "Enter your middle name or initial: \n",
      "Enter your last name: \n",
      "\n",
      "You entered 'John', '', and 'Doe'.\n",
      "The result is John Doe.\n"
     ]
    }
   ],
   "source": [
    "Console.Write(\"Enter your first name: \");\n",
    "string firstName = \"John\"; // Console.ReadLine();\n",
    "Console.Write(\"\\n\");\n",
    "\n",
    "Console.Write(\"Enter your middle name or initial: \");\n",
    "string middleName = \"\"; // Console.ReadLine();\n",
    "Console.Write(\"\\n\");\n",
    "\n",
    "Console.Write(\"Enter your last name: \");\n",
    "string lastName = \"Doe\"; // Console.ReadLine();\n",
    "Console.Write(\"\\n\");\n",
    "\n",
    "Console.WriteLine();\n",
    "Console.WriteLine(\"You entered '{0}', '{1}', and '{2}'.\",\n",
    "      firstName, middleName, lastName);\n",
    "\n",
    "string name = ((firstName.Trim() + \" \" + middleName.Trim()).Trim() + \" \" +\n",
    "      lastName.Trim()).Trim();\n",
    "\n",
    "Console.WriteLine(\"The result is \" + name + \".\");\n",
    "\n",
    "// The following is possible output from this example:\n",
    "//       Enter your first name:    John\n",
    "//       Enter your middle name or initial:\n",
    "//       Enter your last name:    Doe\n",
    "//\n",
    "//       You entered '   John  ', '', and '   Doe'.\n",
    "//       The result is John Doe."
   ]
  },
  {
   "cell_type": "markdown",
   "metadata": {},
   "source": [
    "- `ToUpper()` et `ToLower()` retourne une string modifiée soit tout en majuscule (upper) ou en minuscule (lower)\n",
    "\n",
    "## Caractères d’échappement\n",
    "\n",
    "- `\\'` : apostrophe\n",
    "- `\\\"` : guillemet\n",
    "- `\\\\` : barre oblique inversée\n",
    "- `\\0` : caractère vide (ascii 0)\n",
    "- `\\n` : nouvelle ligne\n",
    "- `\\r` : retour de charriot\n",
    "- `\\t` : tab\n",
    "\n",
    "## String littérale\n",
    "\n",
    "Une string littérale peut être spécifiée en C# si l’échappement de caractère n’est pas possible ou n’est pas favorable (ex.: la location complète d’un fichier sur le disque dur)\n",
    "\n",
    "Préfixer une string avec un `@` indique le début d’une string littérale\n",
    "\n",
    "```cs\n",
    "string s = @\"C:\\Windows\\Temp\\user.log\";\n",
    "// Au lieu de \"C:\\\\Windows\\\\Temp\\\\user.log\"\n",
    "```\n",
    "\n",
    "## String interpolée\n",
    "\n",
    "Une chaîne interpolée est un littéral de chaîne contenant des expressions interpolées.\n",
    "\n",
    "Préfixer une string avec un `$` indique le début d’une string interpolée"
   ]
  },
  {
   "cell_type": "code",
   "execution_count": 24,
   "metadata": {},
   "outputs": [
    {
     "name": "stdout",
     "output_type": "stream",
     "text": [
      "Bonjour Pier-Luc\n"
     ]
    }
   ],
   "source": [
    "string nom = \"Pier-Luc\";\n",
    "string s = $\"Bonjour {nom}\";\n",
    "Console.WriteLine(s);\n",
    "// Donne la string \"Bonjour Pier-Luc\""
   ]
  },
  {
   "cell_type": "markdown",
   "metadata": {},
   "source": [
    "## String builder\n",
    "\n",
    "<https://docs.microsoft.com/en-us/dotnet/api/system.text.stringbuilder?view=netframework-4.8>\n",
    "\n",
    "Les `string` sont immuables\n",
    "- À chaque fois qu’une `string` est « modifié » une nouvelle copie est en effet créée et cette nouvelle référence est ensuite retournée\n",
    "- Cela peut causer des problèmes de performance si l’application travaille avec de très grandes `string`\n",
    "\n",
    "Une instance de la classe `System.Text.StringBuilder` sert à créer une et seulement une `string`\n",
    "- Cette classe facilite la création et la modification de `string` de manière plus efficace (rends l’opération beaucoup rapide en plus de réduire l’espace mémoire)\n",
    "- Cette classe devrait être utilisé dans toute opération où la performance est critique\n",
    "\n",
    "Envisagez d’utiliser la classe `StringBuilder` dans les conditions suivantes :\n",
    "\n",
    "- Lorsque vous vous attendez à ce que votre application fasse un nombre inconnu de modifications à une chaîne au moment de la conception (par exemple, lorsque vous utilisez une boucle pour concaténer un nombre aléatoire de chaînes qui contiennent des entrées d’utilisateur).\n",
    "- Lorsque vous vous attendez à ce que votre application apporte un nombre important de modifications à une chaîne."
   ]
  },
  {
   "cell_type": "code",
   "execution_count": 41,
   "metadata": {},
   "outputs": [
    {
     "name": "stdout",
     "output_type": "stream",
     "text": [
      "The original string:\n",
      "1,349,961,016.000001,754,042,448.000001,813,925,973.00000871,615,356.000001,565,185,065.000001,213,210,068.000001,620,647,557.000001,862,583,471.000001,663,527,318.000001,645,331,396.00000\n"
     ]
    }
   ],
   "source": [
    "Random rnd = new Random();\n",
    "StringBuilder sb = new StringBuilder();\n",
    "\n",
    "// Generate 10 random numbers and store them in a StringBuilder.\n",
    "for (int ctr = 0; ctr <= 9; ctr++)\n",
    "    sb.Append(rnd.Next().ToString(\"N5\"));    \n",
    "\n",
    "Console.WriteLine(\"The original string:\");\n",
    "Console.WriteLine(sb.ToString());"
   ]
  }
 ],
 "metadata": {
  "kernelspec": {
   "display_name": ".NET (C#)",
   "language": "C#",
   "name": ".net-csharp"
  },
  "language_info": {
   "file_extension": ".cs",
   "mimetype": "text/x-csharp",
   "name": "C#",
   "pygments_lexer": "csharp",
   "version": "8.0"
  }
 },
 "nbformat": 4,
 "nbformat_minor": 4
}
