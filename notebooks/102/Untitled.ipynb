{
 "cells": [
  {
   "attachments": {},
   "cell_type": "markdown",
   "metadata": {},
   "source": [
    "# La surcharge des opérateurs\n",
    "\n",
    "Le langage C# dispose de plusieurs opérateurs tels que le +, -, /, *, ++, --, etc.\n",
    "\n",
    "Ces opérateurs permettent d’exécuter des opérations de bases entre objets ou sur soi-même.\n",
    "\n",
    "Il existe plusieurs types d’opérateurs:\n",
    "\n",
    "- Unaire (sur soi-même)\n",
    "- Binaire et abrégé (entre deux objets)\n",
    "- Comparaison (entre deux objets)\n",
    "- Indexe (sur soi-même)\n",
    "- Conversion (sur soi-même)"
   ]
  }
 ],
 "metadata": {
  "kernelspec": {
   "display_name": ".NET (C#)",
   "language": "C#",
   "name": ".net-csharp"
  },
  "language_info": {
   "file_extension": ".cs",
   "mimetype": "text/x-csharp",
   "name": "C#",
   "pygments_lexer": "csharp",
   "version": "8.0"
  }
 },
 "nbformat": 4,
 "nbformat_minor": 4
}
