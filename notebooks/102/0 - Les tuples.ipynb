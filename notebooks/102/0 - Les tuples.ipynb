{
 "cells": [
  {
   "cell_type": "markdown",
   "metadata": {},
   "source": [
    "# Les tuples\n",
    "\n",
    "La fonctionnalité de tuples fournit une syntaxe concise pour regrouper plusieurs éléments de données dans une structure de données légère.\n",
    "\n",
    "L'un des cas les plus courants d'utilisation de tuples est pour les retours de méthode avec de multiples éléments.\n",
    "\n",
    "Il existe deux types de tuples:\n",
    "\n",
    "1. `System.Tuple<T1, T2, .., T7>`    \n",
    "1. `System.ValueTuple`"
   ]
  },
  {
   "cell_type": "markdown",
   "metadata": {},
   "source": [
    "## 1. `System.Tuple<T1, T2, .., T7>`"
   ]
  },
  {
   "cell_type": "code",
   "execution_count": 2,
   "metadata": {
    "scrolled": true
   },
   "outputs": [
    {
     "name": "stdout",
     "output_type": "stream",
     "text": [
      "Nom: Alice, Age 12\n",
      "Nom: Bob, Age 10\n",
      "Nom: Carole, Age 20\n"
     ]
    }
   ],
   "source": [
    "Tuple<string, int> personne1 = new Tuple<string, int>(\"Alice\", 12);\n",
    "var personne2 = new Tuple<string, int>(\"Bob\", 10);\n",
    "var personne3 = Tuple.Create(\"Carole\", 20);\n",
    "\n",
    "Console.WriteLine($\"Nom: {personne1.Item1}, Age {personne1.Item2}\");\n",
    "Console.WriteLine($\"Nom: {personne2.Item1}, Age {personne2.Item2}\");\n",
    "Console.WriteLine($\"Nom: {personne3.Item1}, Age {personne3.Item2}\");\n",
    "\n",
    "var personne4 = Tuple.Create(\"Carole\", 20, \"1 rue Victoria\");"
   ]
  },
  {
   "cell_type": "markdown",
   "metadata": {},
   "source": [
    "## 2. `System.ValueTuple`"
   ]
  },
  {
   "cell_type": "code",
   "execution_count": 9,
   "metadata": {},
   "outputs": [
    {
     "name": "stdout",
     "output_type": "stream",
     "text": [
      "Nom: Déric, Age 24\n",
      "Nom: Édithe, Age 43\n",
      "Nom: Florence, Age 43\n"
     ]
    }
   ],
   "source": [
    "(string, int) personne1 = (\"Déric\", 24);\n",
    "(string Nom, int Age) personne2 = (Nom: \"Édithe\", Age: 43);\n",
    "var personne3 = (Nom: \"Florence\", Age: 43);\n",
    "\n",
    "Console.WriteLine($\"Nom: {personne1.Item1}, Age {personne1.Item2}\");\n",
    "Console.WriteLine($\"Nom: {personne2.Nom}, Age {personne2.Age}\");\n",
    "Console.WriteLine($\"Nom: {personne3.Nom}, Age {personne3.Age}\");"
   ]
  },
  {
   "cell_type": "code",
   "execution_count": 6,
   "metadata": {},
   "outputs": [
    {
     "name": "stdout",
     "output_type": "stream",
     "text": [
      "Nom: Alice, Age: 12\n"
     ]
    }
   ],
   "source": [
    "public (string, int) GetPersonne()\n",
    "{\n",
    "    return (\"Alice\", 12);\n",
    "}\n",
    "\n",
    "var p = GetPersonne();\n",
    "Console.WriteLine($\"Nom: {p.Item1}, Age: {p.Item2}\");"
   ]
  },
  {
   "cell_type": "code",
   "execution_count": 5,
   "metadata": {
    "scrolled": true
   },
   "outputs": [
    {
     "name": "stdout",
     "output_type": "stream",
     "text": [
      "Nom: Alice, Age: 12\n"
     ]
    }
   ],
   "source": [
    "public (string Nom, int Age) GetPersonne()\n",
    "{\n",
    "    return (\"Alice\", 12);\n",
    "}\n",
    "\n",
    "var p = GetPersonne();\n",
    "Console.WriteLine($\"Nom: {p.Nom}, Age: {p.Age}\");"
   ]
  },
  {
   "cell_type": "markdown",
   "metadata": {},
   "source": [
    "## Références\n",
    "\n",
    "- https://docs.microsoft.com/fr-fr/dotnet/csharp/language-reference/builtin-types/value-tuples\n",
    "- https://docs.microsoft.com/fr-fr/dotnet/api/system.tuple-8?view=net-5.0\n",
    "- https://josephwoodward.co.uk/2017/04/csharp-7-valuetuple-types-and-their-limitations\n",
    "- https://docs.microsoft.com/en-us/archive/msdn-magazine/2017/august/essential-net-csharp-7-0-tuples-explained"
   ]
  }
 ],
 "metadata": {
  "kernelspec": {
   "display_name": ".NET (C#)",
   "language": "C#",
   "name": ".net-csharp"
  },
  "language_info": {
   "file_extension": ".cs",
   "mimetype": "text/x-csharp",
   "name": "C#",
   "pygments_lexer": "csharp",
   "version": "8.0"
  }
 },
 "nbformat": 4,
 "nbformat_minor": 4
}
